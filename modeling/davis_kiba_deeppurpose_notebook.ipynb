{
 "cells": [
  {
   "cell_type": "code",
   "execution_count": 1,
   "metadata": {},
   "outputs": [],
   "source": [
    "import pandas as pd\n",
    "import numpy as np\n",
    "import os\n",
    "from DeepPurpose import DTI as models\n",
    "from DeepPurpose.utils import *\n",
    "import matplotlib.pyplot as plt\n",
    "\n",
    "from DeepPurpose import utils, dataset\n",
    "from DeepPurpose import DTI as models\n",
    "import warnings\n",
    "warnings.filterwarnings(\"ignore\")"
   ]
  },
  {
   "cell_type": "code",
   "execution_count": 2,
   "metadata": {},
   "outputs": [
    {
     "name": "stdout",
     "output_type": "stream",
     "text": [
      "Beginning Processing...\n",
      "Beginning to extract zip file...\n",
      "Default set to logspace (nM -> p) for easier regression\n",
      "Done!\n"
     ]
    }
   ],
   "source": [
    "X_drugs_davis, X_targets_davis, y_davis = dataset.load_process_DAVIS(path = './data', binary = False, threshold = 30)"
   ]
  },
  {
   "cell_type": "code",
   "execution_count": 3,
   "metadata": {},
   "outputs": [
    {
     "name": "stdout",
     "output_type": "stream",
     "text": [
      "Beginning Processing...\n",
      "Beginning to extract zip file...\n",
      "Done!\n"
     ]
    }
   ],
   "source": [
    "X_drugs_kiba, X_targets_kiba, y_kiba = dataset.load_process_KIBA(path = './data', binary = False, threshold = 30)"
   ]
  },
  {
   "cell_type": "code",
   "execution_count": 4,
   "metadata": {},
   "outputs": [],
   "source": [
    "def train_model_encoding(encoding, drugs, targets, y):\n",
    "    drug_encoding, target_encoding = encoding, 'CNN'\n",
    "\n",
    "    train, val, test = utils.data_process(drugs, targets, y,\n",
    "                                drug_encoding, target_encoding, \n",
    "                                split_method='cold_protein',frac=[0.7,0.1,0.2],\n",
    "                                random_seed = 1)\n",
    "\n",
    "    config = utils.generate_config(drug_encoding = drug_encoding, \n",
    "                        target_encoding = target_encoding, \n",
    "                        cls_hidden_dims = [1024,1024,512], \n",
    "                        train_epoch = 5, \n",
    "                        LR = 0.001, \n",
    "                        batch_size = 128,\n",
    "                        hidden_dim_drug = 128,\n",
    "                        mpnn_hidden_size = 128,\n",
    "                        mpnn_depth = 3, \n",
    "                        cnn_target_filters = [32,64,96],\n",
    "                        cnn_target_kernels = [4,8,12]\n",
    "                        )\n",
    "        \n",
    "\n",
    "    model = models.model_initialize(**config)\n",
    "    model.train(train, val, test)\n",
    "\n",
    "    f=open(os.path.join(model.result_folder, 'test_markdowntable.txt'),'r')\n",
    "    dummy_results = f.read()\n",
    "\n",
    "    print(\"encoding: \" + encoding)\n",
    "    print(str(dummy_results))\n",
    "\n",
    "    return dummy_results"
   ]
  },
  {
   "cell_type": "code",
   "execution_count": null,
   "metadata": {
    "pycharm": {
     "is_executing": true
    }
   },
   "outputs": [
    {
     "name": "stdout",
     "output_type": "stream",
     "text": [
      "Drug Target Interaction Prediction Mode...\n",
      "in total: 30056 drug-target pairs\n",
      "encoding drug...\n",
      "unique drugs: 68\n",
      "encoding protein...\n",
      "unique target sequence: 379\n",
      "splitting dataset...\n",
      "Done.\n",
      "Let's use 1 GPU!\n",
      "--- Data Preparation ---\n",
      "--- Go for Training ---\n",
      "Training at Epoch 1 iteration 0 with loss 30.7186. Total time 0.00027 hours\n",
      "Training at Epoch 1 iteration 100 with loss 0.49913. Total time 0.00583 hours\n",
      "Validation at Epoch 1 with loss:0.08421, MSE: 0.37425 , Pearson Correlation: 0.52421 with p-value: 2.14E-182 , Concordance Index: 0.79508\n",
      "Training at Epoch 2 iteration 0 with loss 0.79805. Total time 0.01111 hours\n"
     ]
    }
   ],
   "source": [
    "encodings = ['Morgan', 'Pubchem', 'Daylight', 'rdkit_2d_normalized', 'CNN', 'CNN_RNN', 'Transformer', 'MPNN' ]\n",
    "\n",
    "drugs, targets, y = X_drugs_davis, X_targets_davis, y_davis # select the dataset\n",
    "#drugs, targets, y = X_drugs_kiba, X_targets_kiba, y_kiba\n",
    "\n",
    "encoding_results = {encoding:[] for encoding in encodings}\n",
    "\n",
    "for encoding in encodings:\n",
    "    try: \n",
    "        res = train_model_encoding(encoding, drugs, targets, y)\n",
    "        encoding_results[encoding] = res\n",
    "    except Exception as e:\n",
    "        print(\"encoding: \" + encoding)\n",
    "        print(str(e))\n",
    "        encoding_results[encoding] = str(e)\n",
    "        continue\n"
   ]
  },
  {
   "cell_type": "code",
   "execution_count": 8,
   "metadata": {},
   "outputs": [
    {
     "name": "stdout",
     "output_type": "stream",
     "text": [
      "encoding: Morgan\n",
      "+--------+---------------------+--------------+-------------------+\n",
      "|  MSE   | Pearson Correlation | with p-value | Concordance Index |\n",
      "+--------+---------------------+--------------+-------------------+\n",
      "| 0.4917 |        0.6344       |    0.0000    |       0.8120      |\n",
      "+--------+---------------------+--------------+-------------------+\n",
      "encoding: Pubchem\n",
      "+--------+---------------------+--------------+-------------------+\n",
      "|  MSE   | Pearson Correlation | with p-value | Concordance Index |\n",
      "+--------+---------------------+--------------+-------------------+\n",
      "| 0.4951 |        0.6369       |    0.0000    |       0.8141      |\n",
      "+--------+---------------------+--------------+-------------------+\n",
      "encoding: Daylight\n",
      "+--------+---------------------+--------------+-------------------+\n",
      "|  MSE   | Pearson Correlation | with p-value | Concordance Index |\n",
      "+--------+---------------------+--------------+-------------------+\n",
      "| 0.5216 |        0.6018       |    0.0000    |       0.8050      |\n",
      "+--------+---------------------+--------------+-------------------+\n",
      "encoding: rdkit_2d_normalized\n",
      "+--------+---------------------+--------------+-------------------+\n",
      "|  MSE   | Pearson Correlation | with p-value | Concordance Index |\n",
      "+--------+---------------------+--------------+-------------------+\n",
      "| 0.5323 |        0.5876       |    0.0000    |       0.7958      |\n",
      "+--------+---------------------+--------------+-------------------+\n",
      "encoding: CNN\n",
      "+--------+---------------------+--------------+-------------------+\n",
      "|  MSE   | Pearson Correlation | with p-value | Concordance Index |\n",
      "+--------+---------------------+--------------+-------------------+\n",
      "| 0.5697 |        0.5811       |    0.0000    |       0.7955      |\n",
      "+--------+---------------------+--------------+-------------------+\n",
      "encoding: CNN_RNN\n",
      "+--------+---------------------+--------------+-------------------+\n",
      "|  MSE   | Pearson Correlation | with p-value | Concordance Index |\n",
      "+--------+---------------------+--------------+-------------------+\n",
      "| 0.5474 |        0.5734       |    0.0000    |       0.7866      |\n",
      "+--------+---------------------+--------------+-------------------+\n",
      "encoding: Transformer\n",
      "+--------+---------------------+--------------+-------------------+\n",
      "|  MSE   | Pearson Correlation | with p-value | Concordance Index |\n",
      "+--------+---------------------+--------------+-------------------+\n",
      "| 0.7350 |        0.3121       |    0.0000    |       0.6498      |\n",
      "+--------+---------------------+--------------+-------------------+\n",
      "encoding: MPNN\n",
      "+--------+---------------------+--------------+-------------------+\n",
      "|  MSE   | Pearson Correlation | with p-value | Concordance Index |\n",
      "+--------+---------------------+--------------+-------------------+\n",
      "| 0.7175 |        0.3865       |    0.0000    |       0.7100      |\n",
      "+--------+---------------------+--------------+-------------------+\n"
     ]
    }
   ],
   "source": [
    "for result in encodings:\n",
    "    print (\"encoding: \" + result)\n",
    "    print(str(encoding_results[result]))"
   ]
  }
 ],
 "metadata": {
  "kernelspec": {
   "display_name": "base",
   "language": "python",
   "name": "python3"
  },
  "language_info": {
   "codemirror_mode": {
    "name": "ipython",
    "version": 3
   },
   "file_extension": ".py",
   "mimetype": "text/x-python",
   "name": "python",
   "nbconvert_exporter": "python",
   "pygments_lexer": "ipython3",
   "version": "3.8.3"
  },
  "orig_nbformat": 4
 },
 "nbformat": 4,
 "nbformat_minor": 2
}
